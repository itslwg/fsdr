{
 "cells": [
  {
   "cell_type": "markdown",
   "metadata": {},
   "source": [
    "## Cross-validation"
   ]
  },
  {
   "cell_type": "code",
   "execution_count": 1,
   "metadata": {},
   "outputs": [],
   "source": [
    "%load_ext autoreload\n",
    "%autoreload 2"
   ]
  },
  {
   "cell_type": "code",
   "execution_count": 2,
   "metadata": {},
   "outputs": [],
   "source": [
    "import os\n",
    "os.chdir(\"..\")"
   ]
  },
  {
   "cell_type": "code",
   "execution_count": 3,
   "metadata": {},
   "outputs": [],
   "source": [
    "from tqdm import tqdm\n",
    "import pandas as pd\n",
    "import numpy as np\n",
    "import torch.nn as nn\n",
    "\n",
    "from sklearn.decomposition import PCA\n",
    "from sklearn.manifold import Isomap\n",
    "from sklearn.metrics import f1_score\n",
    "from sklearn.model_selection import StratifiedKFold\n",
    "from sklearn.linear_model import LogisticRegression\n",
    "\n",
    "from utils.data_preparation import concat_with_mi\n",
    "from utils.cv import generate_all_combinations\n",
    "\n",
    "from imblearn.over_sampling import SMOTE\n",
    "from imblearn.under_sampling import RandomUnderSampler\n",
    "\n",
    "from joblib import Parallel, delayed"
   ]
  },
  {
   "cell_type": "code",
   "execution_count": 4,
   "metadata": {},
   "outputs": [],
   "source": [
    "from utils.cv import preprocess, compute_score"
   ]
  },
  {
   "cell_type": "code",
   "execution_count": 5,
   "metadata": {},
   "outputs": [],
   "source": [
    "df_raw = pd.read_pickle(\"./input/submission/df_wide_raw_vals.df\")\n",
    "df_diff = pd.read_pickle(\"./input/submission/df_wide_diff.df\")\n",
    "df_diff_sign = pd.read_pickle(\"./input/submission/df_wide_diff_sign.df\")"
   ]
  },
  {
   "cell_type": "code",
   "execution_count": 6,
   "metadata": {},
   "outputs": [],
   "source": [
    "target = pd.read_csv(\"./input/submission/target.csv\", index_col=\"loan_id\")"
   ]
  },
  {
   "cell_type": "code",
   "execution_count": 7,
   "metadata": {},
   "outputs": [],
   "source": [
    "for df_ in [df_raw, df_diff, df_diff_sign]:\n",
    "    lids = df_.columns[df_.columns.str.contains(\"loan_id\")]\n",
    "    df_.drop(columns=lids, inplace=True)"
   ]
  },
  {
   "cell_type": "markdown",
   "metadata": {},
   "source": [
    "Join to remove the removed loans in X from y"
   ]
  },
  {
   "cell_type": "code",
   "execution_count": 8,
   "metadata": {},
   "outputs": [],
   "source": [
    "def create_prediction_layout(df, target, y_label: str = \"default_at_9\"):\n",
    "    Xy = df.join(target.groupby(level=0).head(1))\n",
    "    Xy.loc[:, \"default_at_9\"] = Xy.loc[:, \"default_at_9\"].astype(int)\n",
    "    y = Xy[y_label]\n",
    "    X = Xy.drop(y_label, axis=1)\n",
    "    return X, y"
   ]
  },
  {
   "cell_type": "code",
   "execution_count": 9,
   "metadata": {},
   "outputs": [],
   "source": [
    "X_raw, y = create_prediction_layout(df_raw, target)\n",
    "X_diff, _ =  create_prediction_layout(df_diff, target)\n",
    "X_diff_sign, _ =  create_prediction_layout(df_diff_sign, target)"
   ]
  },
  {
   "cell_type": "markdown",
   "metadata": {},
   "source": [
    "Convert to proper dtypes"
   ]
  },
  {
   "cell_type": "code",
   "execution_count": 10,
   "metadata": {},
   "outputs": [],
   "source": [
    "X_raw = X_raw.convert_dtypes()\n",
    "X_diff = X_diff.convert_dtypes()\n",
    "X_diff_sign = X_diff_sign.convert_dtypes()"
   ]
  },
  {
   "cell_type": "code",
   "execution_count": 11,
   "metadata": {},
   "outputs": [],
   "source": [
    "data_params = {\n",
    "    'X': [X_raw, X_diff, df_diff_sign],\n",
    "    'add_mi': [True, False]\n",
    "}"
   ]
  },
  {
   "cell_type": "code",
   "execution_count": 12,
   "metadata": {},
   "outputs": [],
   "source": [
    "data_combinations = generate_all_combinations(data_params)"
   ]
  },
  {
   "cell_type": "code",
   "execution_count": 13,
   "metadata": {},
   "outputs": [],
   "source": [
    "clf = LogisticRegression(max_iter=1000)"
   ]
  },
  {
   "cell_type": "markdown",
   "metadata": {},
   "source": [
    "A pipeline could have been used instead of manually writing out the different steps. However, this is more difficult adapting to the different testing that is going to be done. Since we want to use the autoencoder output as a pass to a model, rather than validating the autoencoder itself"
   ]
  },
  {
   "cell_type": "code",
   "execution_count": 52,
   "metadata": {},
   "outputs": [],
   "source": [
    "pca_params = {\n",
    "    'n_components': [15, 20, 25, 30, 35, 40]\n",
    "}\n",
    "isomap_params = {\n",
    "    'n_components': [10, 20, 30],\n",
    "    'n_neighbors': [3, 5, 10]\n",
    "}\n",
    "ae_params = {\n",
    "    'module__layers': [\n",
    "        [200, 100, 50],\n",
    "        [100, 50],\n",
    "    ],\n",
    "    'lr': [0.8, 0.6],\n",
    "    'module__act_fn': [nn.LeakyReLU(), nn.ReLU()],\n",
    "    'batch_size': [512],\n",
    "    'max_epochs': [100],\n",
    "    'sparse': [False, True]\n",
    "}"
   ]
  },
  {
   "cell_type": "code",
   "execution_count": 53,
   "metadata": {},
   "outputs": [],
   "source": [
    "pca_combinations = generate_all_combinations(pca_params)\n",
    "isomap_combinations = generate_all_combinations(isomap_params)\n",
    "ae_combinations = generate_all_combinations(ae_params)"
   ]
  },
  {
   "cell_type": "code",
   "execution_count": 49,
   "metadata": {},
   "outputs": [],
   "source": [
    "from utils.ae import AE, AutoEncoder"
   ]
  },
  {
   "cell_type": "code",
   "execution_count": 17,
   "metadata": {},
   "outputs": [],
   "source": [
    "def compute_score_sklearn(y, reducer, data_comb):\n",
    "    X = data_comb['X']\n",
    "    add_mi = data_comb['add_mi']\n",
    "    if add_mi: X = concat_with_mi(X)\n",
    "    return compute_score(reducer = reducer, X = X, y = y)\n",
    "\n",
    "def compute_score_ae(y, ae_comb, data_comb):\n",
    "    X = data_comb['X']\n",
    "    add_mi = data_comb['add_mi']\n",
    "    if add_mi: X = concat_with_mi(X)\n",
    "    _, D = X.shape\n",
    "    sparse = ae_comb['sparse']\n",
    "    ae_comb_ = ae_comb.copy()\n",
    "    ae_comb_.pop(\"sparse\")\n",
    "    ae = AE(\n",
    "        AutoEncoder,\n",
    "        module__D = D,\n",
    "        train_split=None,\n",
    "        verbose=0,\n",
    "        **ae_comb_\n",
    "    )\n",
    "    return compute_score(reducer = ae, X = X, y = y, sparse=sparse)"
   ]
  },
  {
   "cell_type": "markdown",
   "metadata": {},
   "source": [
    "#### PCA CV loop"
   ]
  },
  {
   "cell_type": "code",
   "execution_count": 152,
   "metadata": {},
   "outputs": [],
   "source": [
    "pca_scores_grid = np.zeros((len(data_combinations), len(pca_combinations)))"
   ]
  },
  {
   "cell_type": "code",
   "execution_count": 44,
   "metadata": {},
   "outputs": [],
   "source": [
    "for i, pca_comb in enumerate(pca_combinations):\n",
    "    pca = PCA(**pca_comb)\n",
    "    scores = Parallel(n_jobs=2)(delayed(compute_score_sklearn)(reducer = pca, data_comb=data_comb, y = y) for data_comb in data_combinations) \n",
    "    pca_scores_grid[:, i] = scores"
   ]
  },
  {
   "cell_type": "code",
   "execution_count": 45,
   "metadata": {},
   "outputs": [],
   "source": [
    "col = np.argmax(np.max(pca_scores_grid, axis=0))\n",
    "row = np.argmax(np.max(pca_scores_grid, axis=1))"
   ]
  },
  {
   "cell_type": "code",
   "execution_count": 46,
   "metadata": {},
   "outputs": [],
   "source": [
    "pca_best_params = pca_combinations[col]\n",
    "pca_best_data_params = data_combinations[row]"
   ]
  },
  {
   "cell_type": "code",
   "execution_count": 48,
   "metadata": {},
   "outputs": [],
   "source": [
    "np.save(\"./input/submission/pca_best_params\", pca_best_params)\n",
    "np.save(\"./input/submission/pca_best_data_params\", pca_best_data_params)"
   ]
  },
  {
   "cell_type": "code",
   "execution_count": 50,
   "metadata": {},
   "outputs": [],
   "source": [
    "np.save(\"./input/submission/pca_scores_grid\", pca_scores_grid)"
   ]
  },
  {
   "cell_type": "markdown",
   "metadata": {},
   "source": [
    "#### Isomap CV loop"
   ]
  },
  {
   "cell_type": "code",
   "execution_count": 51,
   "metadata": {},
   "outputs": [],
   "source": [
    "isomap_scores_grid = np.zeros((len(data_combinations), len(isomap_combinations)))"
   ]
  },
  {
   "cell_type": "code",
   "execution_count": 52,
   "metadata": {},
   "outputs": [],
   "source": [
    "for i, isomap_comb in enumerate(isomap_combinations):\n",
    "    isomap = Isomap(**isomap_comb)\n",
    "    scores = Parallel(n_jobs=2)(delayed(compute_score_sklearn)(reducer = isomap, data_comb=data_comb, y = y) for data_comb in data_combinations) \n",
    "    isomap_scores_grid[:, i] = scores"
   ]
  },
  {
   "cell_type": "code",
   "execution_count": 53,
   "metadata": {},
   "outputs": [],
   "source": [
    "col = np.argmax(np.max(isomap_scores_grid, axis=0))\n",
    "row = np.argmax(np.max(isomap_scores_grid, axis=1))"
   ]
  },
  {
   "cell_type": "code",
   "execution_count": 54,
   "metadata": {},
   "outputs": [],
   "source": [
    "isomap_best_params = isomap_combinations[col]\n",
    "isomap_best_data_params = data_combinations[row]"
   ]
  },
  {
   "cell_type": "code",
   "execution_count": 55,
   "metadata": {},
   "outputs": [],
   "source": [
    "np.save(\"./input/submission/isomap_best_params\", isomap_best_params)\n",
    "np.save(\"./input/submission/isomap_best_data_params\", isomap_best_data_params)"
   ]
  },
  {
   "cell_type": "code",
   "execution_count": 56,
   "metadata": {},
   "outputs": [],
   "source": [
    "np.save(\"./input/submission/isomap_scores_grid\", isomap_scores_grid)"
   ]
  },
  {
   "cell_type": "markdown",
   "metadata": {},
   "source": [
    "#### Autoencoder CV loop"
   ]
  },
  {
   "cell_type": "code",
   "execution_count": 54,
   "metadata": {},
   "outputs": [],
   "source": [
    "ae_scores_grid = np.zeros((len(data_combinations), len(ae_combinations)))"
   ]
  },
  {
   "cell_type": "code",
   "execution_count": 55,
   "metadata": {},
   "outputs": [
    {
     "name": "stderr",
     "output_type": "stream",
     "text": [
      "5it [00:52, 10.45s/it]\n",
      "5it [00:43,  8.72s/it]\n",
      "5it [00:47,  9.48s/it]\n",
      "5it [00:39,  7.90s/it]\n",
      "5it [00:45,  9.15s/it]\n",
      "5it [00:41,  8.31s/it]\n",
      "0it [00:00, ?it/s]"
     ]
    },
    {
     "name": "stdout",
     "output_type": "stream",
     "text": [
      "[0.37637142680000074, 0.28552158997114396, 0.36007092225832144, 0.2961940502145265, 0.380312999524282, 0.3736680484504626]\n"
     ]
    },
    {
     "name": "stderr",
     "output_type": "stream",
     "text": [
      "5it [00:49,  9.88s/it]\n",
      "5it [00:41,  8.29s/it]\n",
      "5it [00:46,  9.29s/it]\n",
      "5it [00:41,  8.23s/it]\n",
      "5it [00:48,  9.74s/it]\n",
      "5it [00:43,  8.67s/it]\n",
      "0it [00:00, ?it/s]"
     ]
    },
    {
     "name": "stdout",
     "output_type": "stream",
     "text": [
      "[0.2338629601469464, 0.13641927826732703, 0.23145448201383262, 0.2787287683597611, 0.39509352200732484, 0.36749967143795115]\n"
     ]
    },
    {
     "name": "stderr",
     "output_type": "stream",
     "text": [
      "5it [00:44,  8.97s/it]\n",
      "5it [00:42,  8.46s/it]\n",
      "5it [00:51, 10.21s/it]\n",
      "5it [00:40,  8.06s/it]\n",
      "5it [00:48,  9.70s/it]\n",
      "5it [00:37,  7.40s/it]\n",
      "0it [00:00, ?it/s]"
     ]
    },
    {
     "name": "stdout",
     "output_type": "stream",
     "text": [
      "[0.36096624905055197, 0.2363497759710119, 0.34515454803706863, 0.28266462143195054, 0.35859105540398345, 0.38206586644667306]\n"
     ]
    },
    {
     "name": "stderr",
     "output_type": "stream",
     "text": [
      "5it [00:45,  9.10s/it]\n",
      "5it [00:42,  8.56s/it]\n",
      "5it [00:45,  9.17s/it]\n",
      "5it [00:39,  7.96s/it]\n",
      "5it [00:43,  8.74s/it]\n",
      "5it [00:35,  7.01s/it]\n",
      "0it [00:00, ?it/s]"
     ]
    },
    {
     "name": "stdout",
     "output_type": "stream",
     "text": [
      "[0.4830415174860419, 0.4830415174860419, 0.4830415174860419, 0.4830415174860419, 0.4830415174860419, 0.4830415174860419]\n"
     ]
    },
    {
     "name": "stderr",
     "output_type": "stream",
     "text": [
      "5it [00:42,  8.42s/it]\n",
      "5it [00:37,  7.40s/it]\n",
      "5it [00:48,  9.66s/it]\n",
      "5it [00:43,  8.67s/it]\n",
      "5it [00:48,  9.61s/it]\n",
      "5it [00:42,  8.51s/it]\n",
      "0it [00:00, ?it/s]"
     ]
    },
    {
     "name": "stdout",
     "output_type": "stream",
     "text": [
      "[0.3470695372288187, 0.2525281033329447, 0.37136957639626306, 0.26447876071165655, 0.36885804906571806, 0.37338680697975285]\n"
     ]
    },
    {
     "name": "stderr",
     "output_type": "stream",
     "text": [
      "5it [00:52, 10.42s/it]\n",
      "5it [00:44,  8.84s/it]\n",
      "5it [00:46,  9.23s/it]\n",
      "5it [00:42,  8.43s/it]\n",
      "5it [00:48,  9.62s/it]\n",
      "5it [00:41,  8.37s/it]\n",
      "0it [00:00, ?it/s]"
     ]
    },
    {
     "name": "stdout",
     "output_type": "stream",
     "text": [
      "[0.3632144789097292, 0.17887059948664458, 0.29000126479989374, 0.1814783111849886, 0.28932364271354066, 0.2819718641998066]\n"
     ]
    },
    {
     "name": "stderr",
     "output_type": "stream",
     "text": [
      "5it [00:52, 10.49s/it]\n",
      "5it [00:45,  9.13s/it]\n",
      "5it [00:46,  9.32s/it]\n",
      "5it [00:42,  8.46s/it]\n",
      "5it [00:42,  8.59s/it]\n",
      "5it [00:40,  8.13s/it]\n",
      "0it [00:00, ?it/s]"
     ]
    },
    {
     "name": "stdout",
     "output_type": "stream",
     "text": [
      "[0.35646443278719503, 0.24193357067698348, 0.3451722323788661, 0.28252138083950645, 0.36791397199756865, 0.36298110987024684]\n"
     ]
    },
    {
     "name": "stderr",
     "output_type": "stream",
     "text": [
      "5it [00:51, 10.35s/it]\n",
      "5it [00:43,  8.64s/it]\n",
      "5it [00:48,  9.73s/it]\n",
      "5it [00:42,  8.46s/it]\n",
      "5it [00:47,  9.42s/it]\n",
      "5it [00:45,  9.17s/it]\n",
      "0it [00:00, ?it/s]"
     ]
    },
    {
     "name": "stdout",
     "output_type": "stream",
     "text": [
      "[0.4830415174860419, 0.4830415174860419, 0.4830415174860419, 0.4830415174860419, 0.4830415174860419, 0.4830415174860419]\n"
     ]
    },
    {
     "name": "stderr",
     "output_type": "stream",
     "text": [
      "5it [00:46,  9.31s/it]\n",
      "5it [00:37,  7.49s/it]\n",
      "5it [00:37,  7.60s/it]\n",
      "5it [00:34,  6.84s/it]\n",
      "5it [00:38,  7.66s/it]\n",
      "5it [00:31,  6.40s/it]\n",
      "0it [00:00, ?it/s]"
     ]
    },
    {
     "name": "stdout",
     "output_type": "stream",
     "text": [
      "[0.35986479266661736, 0.30931541311797683, 0.36989399638201814, 0.3297057530190015, 0.3756388292883618, 0.3884215202519007]\n"
     ]
    },
    {
     "name": "stderr",
     "output_type": "stream",
     "text": [
      "5it [00:44,  8.89s/it]\n",
      "5it [00:40,  8.04s/it]\n",
      "5it [00:41,  8.40s/it]\n",
      "5it [00:41,  8.27s/it]\n",
      "5it [00:41,  8.23s/it]\n",
      "5it [00:39,  7.93s/it]\n",
      "0it [00:00, ?it/s]"
     ]
    },
    {
     "name": "stdout",
     "output_type": "stream",
     "text": [
      "[0.2504566580095281, 0.17022889000190822, 0.2289966813696151, 0.12942551462895396, 0.3996830631975355, 0.3433881029090175]\n"
     ]
    },
    {
     "name": "stderr",
     "output_type": "stream",
     "text": [
      "5it [00:44,  8.85s/it]\n",
      "5it [00:37,  7.43s/it]\n",
      "5it [00:39,  7.84s/it]\n",
      "5it [00:36,  7.38s/it]\n",
      "5it [00:39,  7.98s/it]\n",
      "5it [00:34,  6.97s/it]\n",
      "0it [00:00, ?it/s]"
     ]
    },
    {
     "name": "stdout",
     "output_type": "stream",
     "text": [
      "[0.3625675756638035, 0.3262375794454523, 0.37635770024261467, 0.33317165747976873, 0.37874974802469286, 0.387278038924847]\n"
     ]
    },
    {
     "name": "stderr",
     "output_type": "stream",
     "text": [
      "5it [00:42,  8.48s/it]\n",
      "5it [00:36,  7.26s/it]\n",
      "5it [00:35,  7.05s/it]\n",
      "5it [00:33,  6.67s/it]\n",
      "5it [00:33,  6.69s/it]\n",
      "5it [00:29,  5.94s/it]\n",
      "0it [00:00, ?it/s]"
     ]
    },
    {
     "name": "stdout",
     "output_type": "stream",
     "text": [
      "[0.4830415174860419, 0.4830415174860419, 0.4830415174860419, 0.4830415174860419, 0.4830415174860419, 0.4830415174860419]\n"
     ]
    },
    {
     "name": "stderr",
     "output_type": "stream",
     "text": [
      "5it [00:34,  6.99s/it]\n",
      "5it [00:32,  6.47s/it]\n",
      "5it [00:39,  7.83s/it]\n",
      "5it [00:35,  7.07s/it]\n",
      "5it [00:42,  8.45s/it]\n",
      "5it [00:36,  7.21s/it]\n",
      "0it [00:00, ?it/s]"
     ]
    },
    {
     "name": "stdout",
     "output_type": "stream",
     "text": [
      "[0.3802945918759602, 0.32352312702848984, 0.3761277398711043, 0.32884094701456634, 0.3676264300767052, 0.37756940962256846]\n"
     ]
    },
    {
     "name": "stderr",
     "output_type": "stream",
     "text": [
      "5it [00:42,  8.47s/it]\n",
      "5it [00:36,  7.39s/it]\n",
      "5it [00:39,  7.85s/it]\n",
      "5it [00:35,  7.02s/it]\n",
      "5it [00:37,  7.57s/it]\n",
      "5it [00:35,  7.04s/it]\n",
      "0it [00:00, ?it/s]"
     ]
    },
    {
     "name": "stdout",
     "output_type": "stream",
     "text": [
      "[0.18938869008199305, 0.26395591925489814, 0.24947667626401068, 0.12477481037323042, 0.2850159889198541, 0.2689671844768894]\n"
     ]
    },
    {
     "name": "stderr",
     "output_type": "stream",
     "text": [
      "5it [00:41,  8.33s/it]\n",
      "5it [00:36,  7.29s/it]\n",
      "5it [00:39,  7.99s/it]\n",
      "5it [00:36,  7.21s/it]\n",
      "5it [00:41,  8.22s/it]\n",
      "5it [00:35,  7.11s/it]\n",
      "0it [00:00, ?it/s]"
     ]
    },
    {
     "name": "stdout",
     "output_type": "stream",
     "text": [
      "[0.3520070598193744, 0.30357305643632937, 0.3725932706231395, 0.3374885246904053, 0.3732831925398317, 0.3755571820340862]\n"
     ]
    },
    {
     "name": "stderr",
     "output_type": "stream",
     "text": [
      "5it [00:42,  8.50s/it]\n",
      "5it [00:36,  7.33s/it]\n",
      "5it [00:41,  8.36s/it]\n",
      "5it [00:37,  7.40s/it]\n",
      "5it [00:38,  7.79s/it]\n",
      "5it [00:35,  7.08s/it]"
     ]
    },
    {
     "name": "stdout",
     "output_type": "stream",
     "text": [
      "[0.4830415174860419, 0.4830415174860419, 0.4830415174860419, 0.4830415174860419, 0.4830415174860419, 0.4830415174860419]\n"
     ]
    },
    {
     "name": "stderr",
     "output_type": "stream",
     "text": [
      "\n"
     ]
    }
   ],
   "source": [
    "for i, ae_comb in enumerate(ae_combinations):\n",
    "    scores = [compute_score_ae(y = y, ae_comb=ae_comb, data_comb = data_comb) for data_comb in data_combinations]\n",
    "    print(scores)\n",
    "    ae_scores_grid[:, i] = scores"
   ]
  },
  {
   "cell_type": "markdown",
   "metadata": {},
   "source": [
    "Get every other element of the combinations (containing sparse)"
   ]
  },
  {
   "cell_type": "code",
   "execution_count": 89,
   "metadata": {},
   "outputs": [],
   "source": [
    "col = np.argmax(np.max(ae_scores_grid, axis=0))\n",
    "row = np.argmax(np.max(ae_scores_grid, axis=1))"
   ]
  },
  {
   "cell_type": "code",
   "execution_count": 90,
   "metadata": {},
   "outputs": [],
   "source": [
    "ae_best_params = ae_combinations[col]\n",
    "ae_best_data_params = data_combinations[row]"
   ]
  },
  {
   "cell_type": "code",
   "execution_count": 91,
   "metadata": {},
   "outputs": [
    {
     "data": {
      "text/plain": [
       "array([[0.37637143, 0.23386296, 0.36096625, 0.48304152, 0.34706954,\n",
       "        0.36321448, 0.35646443, 0.48304152, 0.35986479, 0.25045666,\n",
       "        0.36256758, 0.48304152, 0.38029459, 0.18938869, 0.35200706,\n",
       "        0.48304152],\n",
       "       [0.28552159, 0.13641928, 0.23634978, 0.48304152, 0.2525281 ,\n",
       "        0.1788706 , 0.24193357, 0.48304152, 0.30931541, 0.17022889,\n",
       "        0.32623758, 0.48304152, 0.32352313, 0.26395592, 0.30357306,\n",
       "        0.48304152],\n",
       "       [0.36007092, 0.23145448, 0.34515455, 0.48304152, 0.37136958,\n",
       "        0.29000126, 0.34517223, 0.48304152, 0.369894  , 0.22899668,\n",
       "        0.3763577 , 0.48304152, 0.37612774, 0.24947668, 0.37259327,\n",
       "        0.48304152],\n",
       "       [0.29619405, 0.27872877, 0.28266462, 0.48304152, 0.26447876,\n",
       "        0.18147831, 0.28252138, 0.48304152, 0.32970575, 0.12942551,\n",
       "        0.33317166, 0.48304152, 0.32884095, 0.12477481, 0.33748852,\n",
       "        0.48304152],\n",
       "       [0.380313  , 0.39509352, 0.35859106, 0.48304152, 0.36885805,\n",
       "        0.28932364, 0.36791397, 0.48304152, 0.37563883, 0.39968306,\n",
       "        0.37874975, 0.48304152, 0.36762643, 0.28501599, 0.37328319,\n",
       "        0.48304152],\n",
       "       [0.37366805, 0.36749967, 0.38206587, 0.48304152, 0.37338681,\n",
       "        0.28197186, 0.36298111, 0.48304152, 0.38842152, 0.3433881 ,\n",
       "        0.38727804, 0.48304152, 0.37756941, 0.26896718, 0.37555718,\n",
       "        0.48304152]])"
      ]
     },
     "execution_count": 91,
     "metadata": {},
     "output_type": "execute_result"
    }
   ],
   "source": [
    "ae_scores_grid"
   ]
  },
  {
   "cell_type": "markdown",
   "metadata": {},
   "source": [
    "Notice how every row that correponds to the sparse case return the same high value. This is investigated further in main in the actual testing"
   ]
  },
  {
   "cell_type": "code",
   "execution_count": 102,
   "metadata": {},
   "outputs": [],
   "source": [
    "not_sparse = list(range(len(ae_combinations)))[::2]"
   ]
  },
  {
   "cell_type": "code",
   "execution_count": 103,
   "metadata": {},
   "outputs": [],
   "source": [
    "ae_scores_wo_sparse = ae_scores_grid[:, not_sparse]"
   ]
  },
  {
   "cell_type": "code",
   "execution_count": 104,
   "metadata": {},
   "outputs": [],
   "source": [
    "col_ = np.argmax(np.max(ae_scores_wo_sparse, axis=0))\n",
    "row_ = np.argmax(np.max(ae_scores_wo_sparse, axis=1))"
   ]
  },
  {
   "cell_type": "code",
   "execution_count": 105,
   "metadata": {},
   "outputs": [],
   "source": [
    "ae_combinations_ = np.array(ae_combinations)[not_sparse]"
   ]
  },
  {
   "cell_type": "code",
   "execution_count": 106,
   "metadata": {},
   "outputs": [],
   "source": [
    "ae_best_params_ = ae_combinations_[col_]\n",
    "ae_best_data_params_ = data_combinations[row_]"
   ]
  },
  {
   "cell_type": "code",
   "execution_count": 61,
   "metadata": {},
   "outputs": [],
   "source": [
    "np.save(\"./input/submission/ae_best_params_512\", ae_best_params)\n",
    "np.save(\"./input/submission/ae_best_data_params_512\", ae_best_data_params)"
   ]
  },
  {
   "cell_type": "code",
   "execution_count": 108,
   "metadata": {},
   "outputs": [],
   "source": [
    "np.save(\"./input/submission/ae_best_params_512_notsparse\", ae_best_params_)\n",
    "np.save(\"./input/submission/ae_best_data_params_512_notsparse\", ae_best_data_params_)"
   ]
  }
 ],
 "metadata": {
  "kernelspec": {
   "display_name": "Python 3 (ipykernel)",
   "language": "python",
   "name": "python3"
  },
  "language_info": {
   "codemirror_mode": {
    "name": "ipython",
    "version": 3
   },
   "file_extension": ".py",
   "mimetype": "text/x-python",
   "name": "python",
   "nbconvert_exporter": "python",
   "pygments_lexer": "ipython3",
   "version": "3.7.7"
  }
 },
 "nbformat": 4,
 "nbformat_minor": 4
}
